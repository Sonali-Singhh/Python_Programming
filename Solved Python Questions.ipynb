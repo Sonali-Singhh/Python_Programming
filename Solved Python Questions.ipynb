{
 "cells": [
  {
   "cell_type": "markdown",
   "id": "23c7ff45",
   "metadata": {},
   "source": [
    "# PYTHON SOLVED QUESTIONS"
   ]
  },
  {
   "cell_type": "code",
   "execution_count": 1,
   "id": "d438ac3b",
   "metadata": {},
   "outputs": [],
   "source": [
    "num = [1,2,3,4,5,6,7,8,9,10]"
   ]
  },
  {
   "cell_type": "code",
   "execution_count": 2,
   "id": "ad20850b",
   "metadata": {},
   "outputs": [],
   "source": [
    "number = [i for i in num]"
   ]
  },
  {
   "cell_type": "code",
   "execution_count": 3,
   "id": "afd25a3b",
   "metadata": {},
   "outputs": [
    {
     "name": "stdout",
     "output_type": "stream",
     "text": [
      "[1, 2, 3, 4, 5, 6, 7, 8, 9, 10]\n"
     ]
    }
   ],
   "source": [
    "print(number)"
   ]
  },
  {
   "cell_type": "code",
   "execution_count": 14,
   "id": "0f6082a0",
   "metadata": {},
   "outputs": [
    {
     "name": "stdout",
     "output_type": "stream",
     "text": [
      "0 1 1 2 3 5 8 13 21 34 55 "
     ]
    }
   ],
   "source": [
    "# fabonacci series\n",
    "a = 0\n",
    "b = 1\n",
    "print(a, end= \" \")\n",
    "print(b, end= \" \")\n",
    "for i in range(1,10):\n",
    "    c = a+b\n",
    "    a = b\n",
    "    b = c\n",
    "    print(c, end=\" \")"
   ]
  },
  {
   "cell_type": "code",
   "execution_count": 10,
   "id": "75b0e041",
   "metadata": {},
   "outputs": [
    {
     "name": "stdout",
     "output_type": "stream",
     "text": [
      "Enter a number: 20\n",
      "Number is not prime\n"
     ]
    }
   ],
   "source": [
    "# check prime number\n",
    "num = int(input('Enter a number: '))\n",
    "for i in range(2,num):\n",
    "    if num%i==0:\n",
    "        print('Number is not prime')\n",
    "        break\n",
    "else:\n",
    "    print('Number is prime')"
   ]
  },
  {
   "cell_type": "markdown",
   "id": "491d608d",
   "metadata": {},
   "source": [
    "Q. write a python program to get a count of vowels in string using list comprehension"
   ]
  },
  {
   "cell_type": "code",
   "execution_count": 13,
   "id": "820382fc",
   "metadata": {},
   "outputs": [
    {
     "data": {
      "text/plain": [
       "3"
      ]
     },
     "execution_count": 13,
     "metadata": {},
     "output_type": "execute_result"
    }
   ],
   "source": [
    "string = 'Sonali'\n",
    "vowels = len([i for i in string if i in 'aeiou'])\n",
    "vowels"
   ]
  },
  {
   "cell_type": "code",
   "execution_count": 14,
   "id": "632f93dd",
   "metadata": {},
   "outputs": [
    {
     "name": "stdout",
     "output_type": "stream",
     "text": [
      "*****\n",
      "****\n",
      "***\n",
      "**\n",
      "*\n"
     ]
    }
   ],
   "source": [
    "for i in range(5,0,-1):\n",
    "    print(i*\"*\")  "
   ]
  },
  {
   "cell_type": "code",
   "execution_count": 13,
   "id": "64233323",
   "metadata": {},
   "outputs": [
    {
     "name": "stdout",
     "output_type": "stream",
     "text": [
      "*\n",
      "**\n",
      "***\n",
      "****\n",
      "*****\n"
     ]
    }
   ],
   "source": [
    "for i in range(1,6):\n",
    "    for j in range(1, i+1):\n",
    "        print(\"*\", end=\"\")\n",
    "    print()"
   ]
  },
  {
   "cell_type": "code",
   "execution_count": 15,
   "id": "172b8e55",
   "metadata": {},
   "outputs": [
    {
     "name": "stdout",
     "output_type": "stream",
     "text": [
      "*\n",
      "**\n",
      "***\n",
      "****\n",
      "*****\n"
     ]
    }
   ],
   "source": [
    "for i in range(1,6):\n",
    "    print(i*\"*\")"
   ]
  },
  {
   "cell_type": "code",
   "execution_count": 31,
   "id": "de292f53",
   "metadata": {},
   "outputs": [
    {
     "name": "stdout",
     "output_type": "stream",
     "text": [
      "    *\n",
      "   ***\n",
      "  *****\n",
      " *******\n",
      "*********\n"
     ]
    }
   ],
   "source": [
    "for i in range(1,6):\n",
    "    for k in range(1,6-i):\n",
    "        print(\" \", end=\"\")\n",
    "    for j in range(1,(2*i-1)+1):\n",
    "        print(\"*\", end=\"\")\n",
    "    print()"
   ]
  },
  {
   "cell_type": "code",
   "execution_count": 5,
   "id": "a289bef5",
   "metadata": {},
   "outputs": [
    {
     "name": "stdout",
     "output_type": "stream",
     "text": [
      "The num1 and num2 is not amicable\n"
     ]
    }
   ],
   "source": [
    "# check amicable number\n",
    "num1 = 110\n",
    "num2 = 120\n",
    "\n",
    "fact1 = []\n",
    "fact2 = []\n",
    "\n",
    "for i in range(1,num1):\n",
    "    if num1%i==0:\n",
    "        fact1.append(i)\n",
    "for i in range(1,num2):\n",
    "    if num2%i==0:\n",
    "        fact2.append(i)\n",
    "if sum(fact1)==num2 and sum(fact2)==num1:\n",
    "    print('The num1 and num2 is amicable')\n",
    "else:\n",
    "    print('The num1 and num2 is not amicable')"
   ]
  },
  {
   "cell_type": "code",
   "execution_count": 9,
   "id": "87405f83",
   "metadata": {},
   "outputs": [
    {
     "name": "stdout",
     "output_type": "stream",
     "text": [
      "sum of square 385\n"
     ]
    }
   ],
   "source": [
    "# sum of square\n",
    "number = [1,2,3,4,5,6,7,8,9,10]\n",
    "sum_of_square = 0\n",
    "\n",
    "for i in number:\n",
    "    sum_of_square+=i**2\n",
    "print('sum of square', sum_of_square)"
   ]
  },
  {
   "cell_type": "code",
   "execution_count": 18,
   "id": "dfddd738",
   "metadata": {},
   "outputs": [
    {
     "name": "stdout",
     "output_type": "stream",
     "text": [
      "The value is a palindrome 121\n"
     ]
    }
   ],
   "source": [
    "# palindrome\n",
    "value = '121'\n",
    "if value == value[::-1]:\n",
    "    print('The value is a palindrome', value)\n",
    "else:\n",
    "    print('The is not a palindrome', value)"
   ]
  },
  {
   "cell_type": "code",
   "execution_count": 15,
   "id": "d97de0bb",
   "metadata": {},
   "outputs": [
    {
     "name": "stdout",
     "output_type": "stream",
     "text": [
      "[2, 4, 6, 8, 10, 12, 14, 16, 18, 20]\n"
     ]
    }
   ],
   "source": [
    "number = list(filter(lambda x:x %2 == 0, range (1, 21))) #even num using lambda \n",
    "\n",
    "print(number)"
   ]
  },
  {
   "cell_type": "code",
   "execution_count": 2,
   "id": "31c8a21a",
   "metadata": {},
   "outputs": [
    {
     "name": "stdout",
     "output_type": "stream",
     "text": [
      "Count of 'a' in the string: 3\n"
     ]
    }
   ],
   "source": [
    "string = \"malyalam\"\n",
    "count_of_a = string.count('a')\n",
    "print(\"Count of 'a' in the string:\", count_of_a)"
   ]
  },
  {
   "cell_type": "code",
   "execution_count": 3,
   "id": "f1cee78a",
   "metadata": {},
   "outputs": [
    {
     "name": "stdout",
     "output_type": "stream",
     "text": [
      "Count of each alphabet:\n",
      "m: 2\n",
      "a: 3\n",
      "l: 2\n",
      "y: 1\n"
     ]
    }
   ],
   "source": [
    "input_str = \"malayalam\"\n",
    "\n",
    "# Initialize an empty dictionary to store the character counts\n",
    "char_count = {}\n",
    "\n",
    "# Loop through each character in the input string\n",
    "for char in input_str:\n",
    "    # Check if the character is already in the dictionary\n",
    "    if char in char_count:\n",
    "        # If yes, increment its count\n",
    "        char_count[char] += 1\n",
    "    else:\n",
    "        # If not, add it to the dictionary with a count of 1\n",
    "        char_count[char] = 1\n",
    "\n",
    "print(char_count)"
   ]
  },
  {
   "cell_type": "code",
   "execution_count": 4,
   "id": "539c54db",
   "metadata": {},
   "outputs": [],
   "source": [
    "def is_divi(num):\n",
    "    if num%2 ==0 and num%4==0 and num%6!=0:\n",
    "        return True\n",
    "    else: \n",
    "        return False "
   ]
  },
  {
   "cell_type": "code",
   "execution_count": 5,
   "id": "637b4e2c",
   "metadata": {},
   "outputs": [
    {
     "name": "stdout",
     "output_type": "stream",
     "text": [
      "enter number:12\n"
     ]
    },
    {
     "data": {
      "text/plain": [
       "False"
      ]
     },
     "execution_count": 5,
     "metadata": {},
     "output_type": "execute_result"
    }
   ],
   "source": [
    "num = int(input('enter number:'))\n",
    "is_divi(num)"
   ]
  },
  {
   "cell_type": "code",
   "execution_count": 16,
   "id": "1c518f64",
   "metadata": {},
   "outputs": [
    {
     "data": {
      "text/plain": [
       "[4, 8, 16, 20, 28, 32, 40, 44, 52, 56, 64, 68, 76, 80, 88, 92, 100]"
      ]
     },
     "execution_count": 16,
     "metadata": {},
     "output_type": "execute_result"
    }
   ],
   "source": [
    "# Use list comprehension to find numbers divisible by 2 and 4 but not 6\n",
    "numbers = [number for number in range(1,101)\n",
    "           if number % 2 == 0 and number % 4 == 0 and number % 6 != 0]\n",
    "numbers"
   ]
  },
  {
   "cell_type": "code",
   "execution_count": 15,
   "id": "d7ce50a9",
   "metadata": {},
   "outputs": [],
   "source": [
    "import numpy as np"
   ]
  },
  {
   "cell_type": "code",
   "execution_count": 16,
   "id": "d393078e",
   "metadata": {},
   "outputs": [
    {
     "data": {
      "text/plain": [
       "array([1, 2, 3, 4, 5, 6])"
      ]
     },
     "execution_count": 16,
     "metadata": {},
     "output_type": "execute_result"
    }
   ],
   "source": [
    "array1 = np.array([1,2,3])\n",
    "array2 = np.array([4,5,6])\n",
    "\n",
    "array_c = np.concatenate((array1, array2))\n",
    "\n",
    "array_c"
   ]
  },
  {
   "cell_type": "code",
   "execution_count": 7,
   "id": "563a3a96",
   "metadata": {},
   "outputs": [
    {
     "name": "stdout",
     "output_type": "stream",
     "text": [
      "8 2\n",
      "7 3\n"
     ]
    }
   ],
   "source": [
    "# find the combination of number in a given list whose addition is 10\n",
    "lst = [8, 7, 2, 5, 3, 1]\n",
    "n = len(lst)\n",
    "for i in range(n):\n",
    "    for j in range(i+1, n):\n",
    "        if lst[i]+lst[j]==10:\n",
    "            print(lst[i], lst[j])"
   ]
  },
  {
   "cell_type": "code",
   "execution_count": 12,
   "id": "bc4f299b",
   "metadata": {},
   "outputs": [
    {
     "name": "stdout",
     "output_type": "stream",
     "text": [
      "[(3, 7), (6, 4), (2, 8), (1, 9)]\n"
     ]
    }
   ],
   "source": [
    "# another method to find the combination of number in a given list whose addition is 10\n",
    "random_list = [3, 6, 7, 2, 1, 9, 4, 8]\n",
    "n=len(random_list)\n",
    "combinations = []\n",
    "\n",
    "for i in range(n):\n",
    "    for j in range(i + 1, n):\n",
    "        if random_list[i] + random_list[j] == 10:\n",
    "            combinations.append((random_list[i], random_list[j]))\n",
    "\n",
    "print(combinations)"
   ]
  },
  {
   "cell_type": "code",
   "execution_count": 5,
   "id": "fa5cfa0b",
   "metadata": {},
   "outputs": [
    {
     "name": "stdout",
     "output_type": "stream",
     "text": [
      "[(3, 7), (6, 4), (2, 8), (1, 9)]\n"
     ]
    }
   ],
   "source": [
    "# by using list method find the combination of number in a given list whose addition is 10\n",
    "random_list = [3, 6, 7, 2, 1, 9, 4, 8]\n",
    "combinations = [(random_list[i], random_list[j]) \n",
    "                for i in range(len(random_list)) \n",
    "                for j in range(i + 1, len(random_list)) \n",
    "                if random_list[i] + random_list[j] == 10]\n",
    "\n",
    "print(combinations)"
   ]
  },
  {
   "cell_type": "code",
   "execution_count": 9,
   "id": "34a6dfc9",
   "metadata": {},
   "outputs": [
    {
     "name": "stdout",
     "output_type": "stream",
     "text": [
      "[1, 2, 6, 8, 10, 12, 19, 35, 41]\n"
     ]
    }
   ],
   "source": [
    "# sort a list without using a sort keyword\n",
    "lst1 = [41, 2, 12, 6, 35, 8, 10, 1, 19]\n",
    "n = len(lst1)\n",
    "for i in range(n):\n",
    "    for j in range(i+1, n):\n",
    "        if lst1[i]>lst1[j]:\n",
    "            lst1[i],lst1[j]=lst1[j],lst1[i]\n",
    "print(lst1)"
   ]
  },
  {
   "cell_type": "code",
   "execution_count": 11,
   "id": "d6874763",
   "metadata": {},
   "outputs": [
    {
     "name": "stdout",
     "output_type": "stream",
     "text": [
      "blue is sky the\n"
     ]
    }
   ],
   "source": [
    "# find the required output\n",
    "# input = \"the sky is blue\"\n",
    "# output = \"blue is the sky\"\n",
    "s = \"the sky is blue\"\n",
    "l = s.split()\n",
    "l = l[::-1]\n",
    "l = ' '.join(l)\n",
    "print(l)"
   ]
  },
  {
   "cell_type": "code",
   "execution_count": 15,
   "id": "518e1f69",
   "metadata": {},
   "outputs": [
    {
     "name": "stdout",
     "output_type": "stream",
     "text": [
      "13\n"
     ]
    }
   ],
   "source": [
    "# length of last word\n",
    "s = \"hello greatlearning\"\n",
    "l = s.split()\n",
    "l1 = len(l[-1])\n",
    "print(l1)"
   ]
  },
  {
   "cell_type": "code",
   "execution_count": 57,
   "id": "800a1bf1",
   "metadata": {},
   "outputs": [
    {
     "name": "stdout",
     "output_type": "stream",
     "text": [
      "apples are  found only  red  green\n"
     ]
    }
   ],
   "source": [
    "# remove punctuation (expect space)\n",
    "str1 = \"/*apples are & found% only @ red & green\"\n",
    "s = ''\n",
    "for i in str1:\n",
    "    if ((i>'A' and i<='z')|(i>='a' and i<='z')|(i==' ')):\n",
    "        s = s+i\n",
    "print(s)"
   ]
  },
  {
   "cell_type": "code",
   "execution_count": 24,
   "id": "953aa9c6",
   "metadata": {},
   "outputs": [
    {
     "name": "stdout",
     "output_type": "stream",
     "text": [
      "{'m': 2, 'y': 1, 'n': 3, 'a': 2, 'e': 1, 'i': 3, 's': 4, 'o': 1, 'l': 1, 'g': 1, 'h': 1}\n",
      "max_char s max_count 4\n"
     ]
    }
   ],
   "source": [
    "# find maximum repeated character in a string\n",
    "s = \"mynameisssonalisingh\"\n",
    "ch = {}\n",
    "for i in s:\n",
    "    if i in ch:\n",
    "        ch[i]+=1\n",
    "    else:\n",
    "        ch[i]=1\n",
    "print(ch)\n",
    "max_char = max(ch, key = ch.get)\n",
    "#print(max_char)\n",
    "# Find the character with the maximum count\n",
    "#max_char = ''\n",
    "max_count = 0\n",
    "\n",
    "for i in ch:\n",
    "    if ch[i] > max_count:\n",
    "        max_count = ch[i]\n",
    "        #max_char = char\n",
    "print('max_char', max_char, 'max_count', max_count)  "
   ]
  },
  {
   "cell_type": "code",
   "execution_count": 33,
   "id": "10850f41",
   "metadata": {},
   "outputs": [
    {
     "name": "stdout",
     "output_type": "stream",
     "text": [
      "maximum 370\n",
      "minimum 0\n"
     ]
    }
   ],
   "source": [
    "# find maximum and minimum value without using any predefined funnction\n",
    "l = [9, 11, 0, 370, 55, 40, 2]\n",
    "maximum = l[0]\n",
    "minimum = l[0]\n",
    "for i in l:\n",
    "    if i>maximum:\n",
    "        maximum = i\n",
    "    if i<minimum:\n",
    "        minimum = i\n",
    "print('maximum', maximum)\n",
    "print('minimum', minimum)"
   ]
  },
  {
   "cell_type": "code",
   "execution_count": 37,
   "id": "1e63b37c",
   "metadata": {},
   "outputs": [
    {
     "name": "stdout",
     "output_type": "stream",
     "text": [
      "any string1: sonali\n",
      "any string2: singh\n",
      "{'i', 'n', 's'}\n"
     ]
    }
   ],
   "source": [
    "# write a python program to find out common letters between two strings\n",
    "def common_letters():\n",
    "    str1 = input('any string1: ')\n",
    "    str2 = input('any string2: ')\n",
    "    s1 = set(str1)\n",
    "    s2 = set(str2)\n",
    "    lst = s1&s2\n",
    "    print(lst)\n",
    "common_letters()"
   ]
  },
  {
   "cell_type": "code",
   "execution_count": 69,
   "id": "b76dce40",
   "metadata": {},
   "outputs": [
    {
     "name": "stdout",
     "output_type": "stream",
     "text": [
      "{'Sheena': 1, 'loves': 2, 'eating': 2, 'apple': 2, 'and': 2, 'mango.': 2, 'Her': 1, 'sister': 1, 'also': 1}\n"
     ]
    }
   ],
   "source": [
    "# write a python program to count thr frequency of words appearing in a string\n",
    "sen = 'Sheena loves eating apple and mango. Her sister also loves eating apple and mango.'\n",
    "n = sen.split()\n",
    "d = {}\n",
    "for i in n:\n",
    "    if i in d:\n",
    "        d[i]+=1\n",
    "    else:\n",
    "        d[i]=1\n",
    "print(d)"
   ]
  },
  {
   "cell_type": "code",
   "execution_count": 60,
   "id": "46c26bc6",
   "metadata": {},
   "outputs": [
    {
     "name": "stdout",
     "output_type": "stream",
     "text": [
      "The resulting dictionary is: {'name': 'Alice', 'age': 25, 'city': 'New York'}\n"
     ]
    }
   ],
   "source": [
    "# convert two list in a dictionary\n",
    "# Sample input lists\n",
    "keys = [\"name\", \"age\", \"city\"]\n",
    "values = [\"Alice\", 25, \"New York\"]\n",
    "dictionary = {}\n",
    "# Iterate through both lists using a loop\n",
    "for i in range(len(keys)):\n",
    "    dictionary[keys[i]] = values[i]\n",
    "print(\"The resulting dictionary is:\", dictionary)"
   ]
  },
  {
   "cell_type": "code",
   "execution_count": 2,
   "id": "fa521771",
   "metadata": {},
   "outputs": [
    {
     "data": {
      "text/plain": [
       "{'name': 'Alice', 'age': 25, 'city': 'New York'}"
      ]
     },
     "execution_count": 2,
     "metadata": {},
     "output_type": "execute_result"
    }
   ],
   "source": [
    "#2nd method\n",
    "keys = [\"name\", \"age\", \"city\"]\n",
    "values = [\"Alice\", 25, \"New York\"]\n",
    "lst2 = dict(zip(keys,values))\n",
    "lst2"
   ]
  },
  {
   "cell_type": "code",
   "execution_count": 9,
   "id": "43f101d7",
   "metadata": {},
   "outputs": [
    {
     "name": "stdout",
     "output_type": "stream",
     "text": [
      "16\n"
     ]
    }
   ],
   "source": [
    "#find sum of missing numbers\n",
    "def get_missing_summation(a):\n",
    "    n=a[-1]\n",
    "    sum1=0\n",
    "    total=n*(n+1)//2\n",
    "    sum1=sum(a)\n",
    "    print(total-sum1)\n",
    "a = [1,2,4,5,8]\n",
    "get_missing_summation(a)"
   ]
  },
  {
   "cell_type": "code",
   "execution_count": 31,
   "id": "1309810f",
   "metadata": {},
   "outputs": [
    {
     "name": "stdout",
     "output_type": "stream",
     "text": [
      "The missing numbers are: [3, 6, 7]\n"
     ]
    }
   ],
   "source": [
    "# find missing number from the list\n",
    "numbers = [1, 2, 4, 5, 8]\n",
    "missing_numbers = []\n",
    "min_value = numbers[0]\n",
    "max_value = numbers[0]\n",
    "\n",
    "for num in numbers:\n",
    "    if num < min_value:\n",
    "        min_value = num\n",
    "    if num > max_value:\n",
    "        max_value = num\n",
    "\n",
    "# Check for missing numbers in the range from min_value to max_value\n",
    "for num in range(min_value, max_value + 1):\n",
    "    if num not in numbers:\n",
    "        missing_numbers.append(num)\n",
    "\n",
    "print(f\"The missing numbers are: {missing_numbers}\")"
   ]
  },
  {
   "cell_type": "code",
   "execution_count": 11,
   "id": "5cd3456f",
   "metadata": {},
   "outputs": [
    {
     "name": "stdout",
     "output_type": "stream",
     "text": [
      "unique value [1, 9, 8, 7, 5, 6, 0, 3, 4]\n"
     ]
    }
   ],
   "source": [
    "# remove duplicates from a list\n",
    "dup = [1,1,1,9,9,8,8,7,7,7,7,5,5,6,6,0,0,3,3,3,3,4,4]\n",
    "unique_num = []\n",
    "for num in dup:\n",
    "    if num not in unique_num:\n",
    "        unique_num.append(num)\n",
    "print('unique value', unique_num)"
   ]
  },
  {
   "cell_type": "code",
   "execution_count": 18,
   "id": "3aeacb68",
   "metadata": {},
   "outputs": [
    {
     "name": "stdout",
     "output_type": "stream",
     "text": [
      "GReAT LEArNING\n"
     ]
    }
   ],
   "source": [
    "#Convert the third letter to lowercase and the rest to uppercase and\n",
    "#Convert the fourth letter to lowercase and the rest to uppercase\n",
    "\n",
    "a = 'Great Learning'\n",
    "words = a.split()\n",
    "\n",
    "# Convert the third letter to lowercase and the rest to uppercase\n",
    "first_word = words[0][:2].upper() + words[0][2].lower() + words[0][3:].upper()\n",
    "\n",
    "# Convert the fourth letter to lowercase and the rest to uppercase\n",
    "second_word = words[1][:3].upper() + words[1][3].lower() + words[1][4:].upper()\n",
    "\n",
    "modified_string = first_word + ' ' + second_word\n",
    "\n",
    "# Print the result\n",
    "print(modified_string)"
   ]
  },
  {
   "cell_type": "code",
   "execution_count": 20,
   "id": "2313ec47",
   "metadata": {
    "scrolled": true
   },
   "outputs": [
    {
     "name": "stdout",
     "output_type": "stream",
     "text": [
      "gREAT lEARNING\n"
     ]
    }
   ],
   "source": [
    "# Convert the first letter of the first word to lowercase and the rest to uppercase and\n",
    "# Convert the first letter of the second word to lowercase and the rest to uppercase\n",
    "\n",
    "a = 'Great Learning'\n",
    "word = a.split()\n",
    "word1 = []\n",
    "for i in word:\n",
    "    word2 = i[0].lower()+i[1:].upper()\n",
    "    word1.append(word2)\n",
    "ss=\" \".join(word1)\n",
    "print(ss)"
   ]
  },
  {
   "cell_type": "code",
   "execution_count": 34,
   "id": "fb48b4fb",
   "metadata": {},
   "outputs": [
    {
     "name": "stdout",
     "output_type": "stream",
     "text": [
      "gREAT lEARNING\n"
     ]
    }
   ],
   "source": [
    "a = 'great learning'\n",
    "s1 = a.split()\n",
    "s2 = []\n",
    "for i in s1:\n",
    "    s3=i[0].lower()+i[1:].upper()\n",
    "    s2.append(s3)\n",
    "sss=\" \".join(s2)\n",
    "print(sss)"
   ]
  },
  {
   "cell_type": "code",
   "execution_count": 39,
   "id": "e71d05b7",
   "metadata": {},
   "outputs": [
    {
     "name": "stdout",
     "output_type": "stream",
     "text": [
      "grEat leaRning\n"
     ]
    }
   ],
   "source": [
    "a = 'great learning'\n",
    "s1 = a.split()\n",
    "s2 = []\n",
    "\n",
    "first_word = s1[0][:2].lower()+s1[0][2].upper()+s1[0][3:].lower()\n",
    "second_word = s1[1][:3].lower()+s1[1][3].upper()+s1[1][4:].lower()\n",
    "\n",
    "whole_word = first_word+\" \"+second_word\n",
    "print(whole_word)"
   ]
  },
  {
   "cell_type": "code",
   "execution_count": 40,
   "id": "735196c8",
   "metadata": {},
   "outputs": [
    {
     "name": "stdout",
     "output_type": "stream",
     "text": [
      "gREAT lEARNING\n"
     ]
    }
   ],
   "source": [
    "a = 'great learning'\n",
    "s1 = a.split()\n",
    "s2 = []\n",
    "\n",
    "first_word = s1[0][0].lower()+s1[0][1:].upper()\n",
    "second_word = s1[1][0].lower()+s1[1][1:].upper()\n",
    "\n",
    "whole_word = first_word+\" \"+second_word\n",
    "print(whole_word)"
   ]
  },
  {
   "cell_type": "code",
   "execution_count": 42,
   "id": "b1317697",
   "metadata": {},
   "outputs": [
    {
     "data": {
      "text/plain": [
       "5"
      ]
     },
     "execution_count": 42,
     "metadata": {},
     "output_type": "execute_result"
    }
   ],
   "source": [
    "val = 'great learning'\n",
    "lst = len([i for i in val if i in 'aeiouAEIOU'])\n",
    "lst"
   ]
  },
  {
   "cell_type": "code",
   "execution_count": 45,
   "id": "c5f327b4",
   "metadata": {},
   "outputs": [
    {
     "name": "stdout",
     "output_type": "stream",
     "text": [
      "    *\n",
      "   ***\n",
      "  *****\n",
      " *******\n",
      "*********\n"
     ]
    }
   ],
   "source": [
    "for i in range(1,6):\n",
    "    for j in range(1, 6-i):\n",
    "        print(\" \", end='')\n",
    "    for k in range(1, (2*i-1)+1):\n",
    "        print(\"*\", end='')\n",
    "    print()"
   ]
  },
  {
   "cell_type": "code",
   "execution_count": 48,
   "id": "79921981",
   "metadata": {},
   "outputs": [
    {
     "name": "stdout",
     "output_type": "stream",
     "text": [
      "*\n",
      "**\n",
      "***\n",
      "****\n",
      "***\n",
      "**\n",
      "*\n"
     ]
    }
   ],
   "source": [
    "n = 4\n",
    "\n",
    "# Print the upper part of the pyramid\n",
    "for i in range(1, n + 1):\n",
    "    print('*' * i)\n",
    "\n",
    "# Print the lower part of the pyramid\n",
    "for i in range(n - 1, 0, -1):\n",
    "    print('*' * i)"
   ]
  },
  {
   "cell_type": "code",
   "execution_count": 50,
   "id": "0a28eec2",
   "metadata": {},
   "outputs": [
    {
     "name": "stdout",
     "output_type": "stream",
     "text": [
      "*\n",
      "**\n",
      "***\n",
      "****\n"
     ]
    }
   ],
   "source": [
    "for i in range(1, 4 + 1):\n",
    "    print('*' * i)"
   ]
  },
  {
   "cell_type": "code",
   "execution_count": 3,
   "id": "23c09037",
   "metadata": {},
   "outputs": [
    {
     "name": "stdout",
     "output_type": "stream",
     "text": [
      "Result: 3600\n"
     ]
    }
   ],
   "source": [
    "# if number is greater than 400, n is multiplied by 8, otherwise n is divided by 8. please solve by using python\n",
    "\n",
    "n = 450\n",
    "\n",
    "if n > 400:\n",
    "    result = n * 8\n",
    "else:\n",
    "    result = n / 8\n",
    "\n",
    "print(\"Result:\", result)"
   ]
  },
  {
   "cell_type": "code",
   "execution_count": 5,
   "id": "404bb42c",
   "metadata": {},
   "outputs": [
    {
     "name": "stdout",
     "output_type": "stream",
     "text": [
      "The factorial of 5 is 120\n"
     ]
    }
   ],
   "source": [
    "# write a python code to find factorial of a number keep it simple and short\n",
    "def factorial(n):\n",
    "    if n == 0 or n == 1:\n",
    "        return 1\n",
    "    else:\n",
    "        return n * factorial(n - 1)\n",
    "\n",
    "# Example usage\n",
    "number = 5\n",
    "print(f\"The factorial of {number} is {factorial(number)}\")"
   ]
  },
  {
   "cell_type": "code",
   "execution_count": 6,
   "id": "9f1fdac6",
   "metadata": {},
   "outputs": [
    {
     "name": "stdout",
     "output_type": "stream",
     "text": [
      "The factorial of 5 is 120\n"
     ]
    }
   ],
   "source": [
    "number = 5\n",
    "result = 1\n",
    "for i in range(1, number + 1):\n",
    "    result *= i\n",
    "\n",
    "print(f\"The factorial of {number} is {result}\")"
   ]
  },
  {
   "cell_type": "code",
   "execution_count": null,
   "id": "ba7e8b72",
   "metadata": {},
   "outputs": [],
   "source": []
  }
 ],
 "metadata": {
  "kernelspec": {
   "display_name": "Python 3 (ipykernel)",
   "language": "python",
   "name": "python3"
  },
  "language_info": {
   "codemirror_mode": {
    "name": "ipython",
    "version": 3
   },
   "file_extension": ".py",
   "mimetype": "text/x-python",
   "name": "python",
   "nbconvert_exporter": "python",
   "pygments_lexer": "ipython3",
   "version": "3.11.4"
  }
 },
 "nbformat": 4,
 "nbformat_minor": 5
}
